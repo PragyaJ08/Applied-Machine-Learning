{
 "cells": [
  {
   "cell_type": "code",
   "execution_count": 3,
   "metadata": {},
   "outputs": [
    {
     "data": {
      "text/plain": [
       "'c:\\\\Users\\\\pragy\\\\Desktop\\\\Applied ML\\\\Applied-Machine-Learning\\\\Assignment3'"
      ]
     },
     "execution_count": 3,
     "metadata": {},
     "output_type": "execute_result"
    }
   ],
   "source": [
    "import os\n",
    "os.getcwd()"
   ]
  },
  {
   "cell_type": "code",
   "execution_count": 10,
   "metadata": {},
   "outputs": [],
   "source": [
    "import numpy as np\n",
    "import pickle\n",
    "import pandas as pd\n",
    "import sklearn\n",
    "import joblib\n",
    "import os\n",
    "from sklearn.feature_extraction.text import TfidfVectorizer\n",
    "\n",
    "# os.chdir('./Assignment3/')\n",
    "train=pd.read_csv(r\"./Data/Training Data.csv\")\n",
    "val=pd.read_csv(r\"./Data/Validation Data.csv\")\n",
    "test=pd.read_csv(r\"./Data/Test Data.csv\")\n",
    "# os.chdir('../')\n",
    "\n",
    "#splitting the datframe into X and y\n",
    "y_train,X_train=train[\"Label\"],train[\"Text\"]\n",
    "y_val,X_val=val[\"Label\"],val[\"Text\"]\n",
    "y_test,X_test=test[\"Label\"],test[\"Text\"]\n",
    "\n",
    "tfidf = TfidfVectorizer()\n",
    "train_tfidf = tfidf.fit_transform(X_train)\n",
    "\n",
    "def score(text:str, model, threshold:float) -> tuple:\n",
    "    # Transform the input text using the same used during training\n",
    "    emb = tfidf.transform([text])\n",
    "    # Predict the propensity score for the input text for each class\n",
    "    propensity = model.predict_proba(emb)[0]\n",
    "    desired_predict = (model.predict_proba(emb)[:,1] >= threshold).astype(bool)\n",
    "    return (bool(desired_predict[0]), float(propensity[1]))"
   ]
  },
  {
   "cell_type": "code",
   "execution_count": 4,
   "metadata": {},
   "outputs": [
    {
     "name": "stdout",
     "output_type": "stream",
     "text": [
      "False 0.965210175453832\n"
     ]
    },
    {
     "name": "stderr",
     "output_type": "stream",
     "text": [
      "c:\\Users\\pragy\\AppData\\Local\\Programs\\Python\\Python39\\lib\\site-packages\\sklearn\\base.py:299: UserWarning: Trying to unpickle estimator SVC from version 1.2.2 when using version 1.2.1. This might lead to breaking code or invalid results. Use at your own risk. For more info please refer to:\n",
      "https://scikit-learn.org/stable/model_persistence.html#security-maintainability-limitations\n",
      "  warnings.warn(\n"
     ]
    }
   ],
   "source": [
    "import numpy as np\n",
    "import pandas as pd\n",
    "import sklearn\n",
    "import joblib\n",
    "import pickle\n",
    "import os\n",
    "from sklearn.feature_extraction.text import TfidfVectorizer\n",
    "\n",
    "# os.chdir('./Assignment3/')\n",
    "train=pd.read_csv(r\"./Data/Training Data.csv\")\n",
    "val=pd.read_csv(r\"./Data/Validation Data.csv\")\n",
    "test=pd.read_csv(r\"./Data/Test Data.csv\")\n",
    "# os.chdir('../')\n",
    "\n",
    "#splitting the datframe into X and y\n",
    "y_train,X_train=train[\"Label\"],train[\"Text\"]\n",
    "y_val,X_val=val[\"Label\"],val[\"Text\"]\n",
    "y_test,X_test=test[\"Label\"],test[\"Text\"]\n",
    "\n",
    "tfidf = TfidfVectorizer()\n",
    "train_tfidf = tfidf.fit_transform(X_train)\n",
    "\n",
    "svc =joblib.load(open(\"svcmodel.joblib\",'rb'))\n",
    "\n",
    "# mlp = pickle.load(open('mlp','rb'))\n",
    "# text = 'get million dollar for free'\n",
    "text = 'sun rise from east'\n",
    "# Transform the input text using the same used during training\n",
    "propensity = svc.predict_proba(tfidf.transform([text]))[0]\n",
    "desired_predict = (svc.predict_proba(tfidf.transform([text]))[:,1] >= 0.7).astype(bool)\n",
    "#return (desired_predict[0], propensity)\n",
    "print (bool(desired_predict[0]), float(max(propensity)))"
   ]
  },
  {
   "cell_type": "code",
   "execution_count": 6,
   "metadata": {},
   "outputs": [
    {
     "name": "stderr",
     "output_type": "stream",
     "text": [
      "c:\\Users\\pragy\\AppData\\Local\\Programs\\Python\\Python39\\lib\\site-packages\\sklearn\\base.py:299: UserWarning: Trying to unpickle estimator SVC from version 1.2.2 when using version 1.2.1. This might lead to breaking code or invalid results. Use at your own risk. For more info please refer to:\n",
      "https://scikit-learn.org/stable/model_persistence.html#security-maintainability-limitations\n",
      "  warnings.warn(\n"
     ]
    }
   ],
   "source": [
    "filename = open(\"svcmodel.joblib\",'rb')\n",
    "svc =joblib.load(filename)"
   ]
  },
  {
   "cell_type": "code",
   "execution_count": 11,
   "metadata": {},
   "outputs": [
    {
     "ename": "AttributeError",
     "evalue": "predict_proba is not available when  probability=False",
     "output_type": "error",
     "traceback": [
      "\u001b[1;31m---------------------------------------------------------------------------\u001b[0m",
      "\u001b[1;31mAttributeError\u001b[0m                            Traceback (most recent call last)",
      "Cell \u001b[1;32mIn[11], line 1\u001b[0m\n\u001b[1;32m----> 1\u001b[0m score(\u001b[39m'\u001b[39;49m\u001b[39mget million dollar for free\u001b[39;49m\u001b[39m'\u001b[39;49m,svc,\u001b[39m0.7\u001b[39;49m)\n",
      "Cell \u001b[1;32mIn[10], line 26\u001b[0m, in \u001b[0;36mscore\u001b[1;34m(text, model, threshold)\u001b[0m\n\u001b[0;32m     24\u001b[0m emb \u001b[39m=\u001b[39m tfidf\u001b[39m.\u001b[39mtransform([text])\n\u001b[0;32m     25\u001b[0m \u001b[39m# Predict the propensity score for the input text for each class\u001b[39;00m\n\u001b[1;32m---> 26\u001b[0m propensity \u001b[39m=\u001b[39m model\u001b[39m.\u001b[39;49mpredict_proba(emb)[\u001b[39m0\u001b[39m]\n\u001b[0;32m     27\u001b[0m desired_predict \u001b[39m=\u001b[39m (model\u001b[39m.\u001b[39mpredict_proba(emb)[:,\u001b[39m1\u001b[39m] \u001b[39m>\u001b[39m\u001b[39m=\u001b[39m threshold)\u001b[39m.\u001b[39mastype(\u001b[39mbool\u001b[39m)\n\u001b[0;32m     28\u001b[0m \u001b[39mreturn\u001b[39;00m (\u001b[39mbool\u001b[39m(desired_predict[\u001b[39m0\u001b[39m]), \u001b[39mfloat\u001b[39m(propensity[\u001b[39m1\u001b[39m]))\n",
      "File \u001b[1;32mc:\\Users\\pragy\\AppData\\Local\\Programs\\Python\\Python39\\lib\\site-packages\\sklearn\\utils\\_available_if.py:32\u001b[0m, in \u001b[0;36m_AvailableIfDescriptor.__get__\u001b[1;34m(self, obj, owner)\u001b[0m\n\u001b[0;32m     26\u001b[0m attr_err \u001b[39m=\u001b[39m \u001b[39mAttributeError\u001b[39;00m(\n\u001b[0;32m     27\u001b[0m     \u001b[39mf\u001b[39m\u001b[39m\"\u001b[39m\u001b[39mThis \u001b[39m\u001b[39m{\u001b[39;00m\u001b[39mrepr\u001b[39m(owner\u001b[39m.\u001b[39m\u001b[39m__name__\u001b[39m)\u001b[39m}\u001b[39;00m\u001b[39m has no attribute \u001b[39m\u001b[39m{\u001b[39;00m\u001b[39mrepr\u001b[39m(\u001b[39mself\u001b[39m\u001b[39m.\u001b[39mattribute_name)\u001b[39m}\u001b[39;00m\u001b[39m\"\u001b[39m\n\u001b[0;32m     28\u001b[0m )\n\u001b[0;32m     29\u001b[0m \u001b[39mif\u001b[39;00m obj \u001b[39mis\u001b[39;00m \u001b[39mnot\u001b[39;00m \u001b[39mNone\u001b[39;00m:\n\u001b[0;32m     30\u001b[0m     \u001b[39m# delegate only on instances, not the classes.\u001b[39;00m\n\u001b[0;32m     31\u001b[0m     \u001b[39m# this is to allow access to the docstrings.\u001b[39;00m\n\u001b[1;32m---> 32\u001b[0m     \u001b[39mif\u001b[39;00m \u001b[39mnot\u001b[39;00m \u001b[39mself\u001b[39;49m\u001b[39m.\u001b[39;49mcheck(obj):\n\u001b[0;32m     33\u001b[0m         \u001b[39mraise\u001b[39;00m attr_err\n\u001b[0;32m     34\u001b[0m     out \u001b[39m=\u001b[39m MethodType(\u001b[39mself\u001b[39m\u001b[39m.\u001b[39mfn, obj)\n",
      "File \u001b[1;32mc:\\Users\\pragy\\AppData\\Local\\Programs\\Python\\Python39\\lib\\site-packages\\sklearn\\svm\\_base.py:829\u001b[0m, in \u001b[0;36mBaseSVC._check_proba\u001b[1;34m(self)\u001b[0m\n\u001b[0;32m    827\u001b[0m \u001b[39mdef\u001b[39;00m \u001b[39m_check_proba\u001b[39m(\u001b[39mself\u001b[39m):\n\u001b[0;32m    828\u001b[0m     \u001b[39mif\u001b[39;00m \u001b[39mnot\u001b[39;00m \u001b[39mself\u001b[39m\u001b[39m.\u001b[39mprobability:\n\u001b[1;32m--> 829\u001b[0m         \u001b[39mraise\u001b[39;00m \u001b[39mAttributeError\u001b[39;00m(\n\u001b[0;32m    830\u001b[0m             \u001b[39m\"\u001b[39m\u001b[39mpredict_proba is not available when  probability=False\u001b[39m\u001b[39m\"\u001b[39m\n\u001b[0;32m    831\u001b[0m         )\n\u001b[0;32m    832\u001b[0m     \u001b[39mif\u001b[39;00m \u001b[39mself\u001b[39m\u001b[39m.\u001b[39m_impl \u001b[39mnot\u001b[39;00m \u001b[39min\u001b[39;00m (\u001b[39m\"\u001b[39m\u001b[39mc_svc\u001b[39m\u001b[39m\"\u001b[39m, \u001b[39m\"\u001b[39m\u001b[39mnu_svc\u001b[39m\u001b[39m\"\u001b[39m):\n\u001b[0;32m    833\u001b[0m         \u001b[39mraise\u001b[39;00m \u001b[39mAttributeError\u001b[39;00m(\u001b[39m\"\u001b[39m\u001b[39mpredict_proba only implemented for SVC and NuSVC\u001b[39m\u001b[39m\"\u001b[39m)\n",
      "\u001b[1;31mAttributeError\u001b[0m: predict_proba is not available when  probability=False"
     ]
    }
   ],
   "source": [
    "score('get million dollar for free',svc,0.7)"
   ]
  },
  {
   "cell_type": "code",
   "execution_count": null,
   "metadata": {},
   "outputs": [],
   "source": []
  }
 ],
 "metadata": {
  "kernelspec": {
   "display_name": "Python 3",
   "language": "python",
   "name": "python3"
  },
  "language_info": {
   "codemirror_mode": {
    "name": "ipython",
    "version": 3
   },
   "file_extension": ".py",
   "mimetype": "text/x-python",
   "name": "python",
   "nbconvert_exporter": "python",
   "pygments_lexer": "ipython3",
   "version": "3.9.6"
  },
  "orig_nbformat": 4
 },
 "nbformat": 4,
 "nbformat_minor": 2
}
